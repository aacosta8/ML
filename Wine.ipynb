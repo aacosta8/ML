{
  "nbformat": 4,
  "nbformat_minor": 0,
  "metadata": {
    "colab": {
      "name": "Wine.ipynb",
      "version": "0.3.2",
      "provenance": [],
      "collapsed_sections": [
        "rHmBfSgs-0eB",
        "foRpoyMh_uwp"
      ],
      "include_colab_link": true
    },
    "kernelspec": {
      "name": "python3",
      "display_name": "Python 3"
    }
  },
  "cells": [
    {
      "cell_type": "markdown",
      "metadata": {
        "id": "view-in-github",
        "colab_type": "text"
      },
      "source": [
        "<a href=\"https://colab.research.google.com/github/aacosta8/ML/blob/master/Wine.ipynb\" target=\"_parent\"><img src=\"https://colab.research.google.com/assets/colab-badge.svg\" alt=\"Open In Colab\"/></a>"
      ]
    },
    {
      "metadata": {
        "id": "Mvj6oxq4wiY6",
        "colab_type": "text"
      },
      "cell_type": "markdown",
      "source": [
        "# Alexander Acosta y Julián Arango"
      ]
    },
    {
      "metadata": {
        "id": "v0P2YTq2v2g0",
        "colab_type": "code",
        "colab": {}
      },
      "cell_type": "code",
      "source": [
        "# imports necesarios\n",
        "\n",
        "import pandas as pd\n",
        "import numpy as np\n",
        "from sklearn.model_selection import train_test_split\n",
        "from sklearn import tree\n",
        "from sklearn import linear_model\n",
        "\n",
        "import seaborn as sns\n",
        "import matplotlib.pyplot as plt \n",
        "sns.set(style=\"white\")"
      ],
      "execution_count": 0,
      "outputs": []
    },
    {
      "metadata": {
        "id": "qUNDhqouxaH8",
        "colab_type": "code",
        "colab": {}
      },
      "cell_type": "code",
      "source": [
        "# Dataset original\n",
        "wines = pd.read_csv(\"whitewine.csv\",sep=\";\")\n",
        "\n",
        "feature_names = wines.drop(['quality'],axis=1).columns.values\n",
        "X = wines.drop(['quality'], axis=1).values\n",
        "\n",
        "y = wines['quality']"
      ],
      "execution_count": 0,
      "outputs": []
    },
    {
      "metadata": {
        "id": "rHmBfSgs-0eB",
        "colab_type": "text"
      },
      "cell_type": "markdown",
      "source": [
        "#Entendimiento del problema\n",
        "\n"
      ]
    },
    {
      "metadata": {
        "id": "XXmIhb8NOb_W",
        "colab_type": "text"
      },
      "cell_type": "markdown",
      "source": [
        "Los vinos pueden ser vistos actualmente como un bien de lujo, Además cuenta con una cantidad de consumidores que va en aumento, se toma como referencia \\[Cortez et al., 2009]  quienes hicieron un estudio de la calidad de los vinos producidos en Portugal, que es uno de los mayores productores de vino. \n",
        "\n",
        "Se busca invertir en nuevas tecnologías como podría ser el Machine Learning para lograr predicir y perfeccionar las variables tomadas en cuenta a la hora de producir un bueno de excelente calidad que los lleve a lograr la certificación de calidad, de forma que esto permita unas mejores ventas, rentabilidad de los viñedos y vinos de excelente calidad.\n",
        "\n",
        "---\n",
        "\n"
      ]
    },
    {
      "metadata": {
        "id": "cT0PnHrn6dBM",
        "colab_type": "text"
      },
      "cell_type": "markdown",
      "source": [
        "Distribución de \"calidad\" de los vinos"
      ]
    },
    {
      "metadata": {
        "id": "JFSE3iLHx8KG",
        "colab_type": "code",
        "outputId": "6fc84a1c-9457-49a1-bd36-a4c521c8818d",
        "colab": {
          "base_uri": "https://localhost:8080/",
          "height": 418
        }
      },
      "cell_type": "code",
      "source": [
        "sns.countplot(x=\"quality\",data=wines,palette=\"hls\")\n",
        "plt.show()"
      ],
      "execution_count": 0,
      "outputs": [
        {
          "output_type": "stream",
          "text": [
            "/usr/local/lib/python3.6/dist-packages/seaborn/categorical.py:1428: FutureWarning: remove_na is deprecated and is a private function. Do not use.\n",
            "  stat_data = remove_na(group_data)\n"
          ],
          "name": "stderr"
        },
        {
          "output_type": "display_data",
          "data": {
            "image/png": "[encoded data removed]",
            "text/plain": [
              "<Figure size 576x396 with 1 Axes>"
            ]
          },
          "metadata": {
            "tags": []
          }
        }
      ]
    },
    {
      "metadata": {
        "id": "g6R_4vqr3Was",
        "colab_type": "text"
      },
      "cell_type": "markdown",
      "source": [
        "\n",
        "Se utilizaron bosques de árboles (forests of trees) para evaluar la importancia de las 11 variables de los datos, arrojando los siguientes resultados:"
      ]
    },
    {
      "metadata": {
        "id": "b1pOxkoq8xoV",
        "colab_type": "code",
        "outputId": "f094497c-acf2-4f4e-c73e-36c1ac4fa32e",
        "colab": {
          "base_uri": "https://localhost:8080/",
          "height": 570
        }
      },
      "cell_type": "code",
      "source": [
        "import numpy as np\n",
        "import matplotlib.pyplot as plt\n",
        "\n",
        "from sklearn.ensemble import ExtraTreesClassifier\n",
        "\n",
        "# Build a forest and compute the feature importances\n",
        "forest = ExtraTreesClassifier(n_estimators=250,\n",
        "                              random_state=0)\n",
        "\n",
        "forest.fit(X, y)\n",
        "importances = forest.feature_importances_\n",
        "std = np.std([tree.feature_importances_ for tree in forest.estimators_],\n",
        "             axis=0)\n",
        "indices = np.argsort(importances)[::-1]\n",
        "\n",
        "# Print the feature ranking\n",
        "print(\"Feature ranking:\")\n",
        "\n",
        "for f in range(X.shape[1]):\n",
        "    print(\"%d. %s (%f)\" % (f + 1, feature_names[indices[f]], importances[indices[f]]))\n",
        "\n",
        "# Plot the feature importances of the forest\n",
        "plt.figure()\n",
        "plt.title(\"Feature importances\")\n",
        "plt.bar(range(X.shape[1]), importances[indices],\n",
        "       color=\"r\", yerr=std[indices], align=\"center\")\n",
        "plt.xticks(range(X.shape[1]), indices)\n",
        "plt.xlim([-1, X.shape[1]])\n",
        "plt.show()\n"
      ],
      "execution_count": 0,
      "outputs": [
        {
          "output_type": "stream",
          "text": [
            "Feature ranking:\n",
            "1. alcohol (0.127125)\n",
            "2. volatile acidity (0.101105)\n",
            "3. density (0.093041)\n",
            "4. free sulfur dioxide (0.090916)\n",
            "5. total sulfur dioxide (0.087331)\n",
            "6. citric acid (0.085161)\n",
            "7. residual sugar (0.084902)\n",
            "8. pH (0.084246)\n",
            "9. chlorides (0.083511)\n",
            "10. sulphates (0.082946)\n",
            "11. fixed acidity (0.079716)\n"
          ],
          "name": "stdout"
        },
        {
          "output_type": "display_data",
          "data": {
            "image/png": "[encoded data removed]",
            "text/plain": [
              "<Figure size 576x396 with 1 Axes>"
            ]
          },
          "metadata": {
            "tags": []
          }
        }
      ]
    },
    {
      "metadata": {
        "id": "uf74EI681TFn",
        "colab_type": "text"
      },
      "cell_type": "markdown",
      "source": [
        "#  Relación entre las variables de entrada y la salida\n",
        "\n",
        "Las variables de entrada nos dan un conjunto de 11 que son continuas, y en la salida otorgamos una clasificación binaria de la calidad dependiendo de algunas de estas 11 variables (las 5 de más importancia del método anterior) \n",
        "\n",
        "\n",
        "  * Alcohol\n",
        "  * Volatile acidity\n",
        "  * Density\n",
        "  * Free sulfur dioxide\n",
        "  * Citric acid\n",
        "  \n",
        "  \n",
        "  Y en la salidad obtenemos la clasificacion de el vino entre bueno y malo, y una calificación de 0 a 10."
      ]
    },
    {
      "metadata": {
        "id": "foRpoyMh_uwp",
        "colab_type": "text"
      },
      "cell_type": "markdown",
      "source": [
        "# Revisión de la calidad de los datos\n",
        "\n",
        "Cómo se puede observar en la captura anterior, los datos del dataset utilizado no presentan valores nulos en ninguno de sus campos, es decir, se tienen 4200 registros con 11 variables independientes cada uno. Se hizo un análisis que incluye media, desviación estándar, mínimos, máximos y además los cuartiles para tener una visión general de la distribución de los datos.\n",
        "\n",
        "Las 11 variables son de tipo numérico y son variables continuas. \n",
        "\n",
        "\n"
      ]
    },
    {
      "metadata": {
        "id": "x0Di1-01AZQc",
        "colab_type": "code",
        "colab": {}
      },
      "cell_type": "code",
      "source": [
        "wines.head()"
      ],
      "execution_count": 0,
      "outputs": []
    },
    {
      "metadata": {
        "id": "UQLawqKMyPlG",
        "colab_type": "code",
        "colab": {}
      },
      "cell_type": "code",
      "source": [
        "wines.describe()"
      ],
      "execution_count": 0,
      "outputs": []
    },
    {
      "metadata": {
        "id": "VlDMbwmBAgvc",
        "colab_type": "text"
      },
      "cell_type": "markdown",
      "source": [
        "# Modelos (logístico, árbol y lineal) y evaluación de su desempeño\n"
      ]
    },
    {
      "metadata": {
        "id": "mwhnxxGKBiQf",
        "colab_type": "code",
        "outputId": "12b7e8ce-6818-4235-f24a-939b197b54aa",
        "colab": {
          "base_uri": "https://localhost:8080/",
          "height": 430
        }
      },
      "cell_type": "code",
      "source": [
        "# Se cambia la calificion a binaria\n",
        "wines_bin = wines.copy()\n",
        "wines_bin.loc[wines_bin[\"quality\"] <= 5,'quality'] = 0 # quality <= 5 = 0 (malo)\n",
        "wines_bin.loc[wines_bin[\"quality\"] > 5,'quality'] = 1 # quality > 5 = 1 (bueno)\n",
        "y_bin = wines_bin['quality'].values\n",
        "\n",
        "count_poor = len(wines_bin[wines_bin['quality']==0])\n",
        "count_excellent = len(wines_bin[wines_bin['quality']==1])\n",
        "\n",
        "pct_of_poor = count_poor/(count_poor+count_excellent)\n",
        "print(\"percentage of poor is\", pct_of_poor*100)\n",
        "pct_of_excellent = count_excellent/(count_poor+count_excellent)\n",
        "print(\"percentage of excellent\", pct_of_excellent*100)\n",
        "\n",
        "sns.countplot(x=\"quality\",data=wines_bin,palette=\"hls\")\n",
        "plt.show()"
      ],
      "execution_count": 34,
      "outputs": [
        {
          "output_type": "stream",
          "text": [
            "percentage of poor is 32.976190476190474\n",
            "percentage of excellent 67.02380952380952\n"
          ],
          "name": "stdout"
        },
        {
          "output_type": "stream",
          "text": [
            "/usr/local/lib/python3.6/dist-packages/seaborn/categorical.py:1428: FutureWarning: remove_na is deprecated and is a private function. Do not use.\n",
            "  stat_data = remove_na(group_data)\n"
          ],
          "name": "stderr"
        },
        {
          "output_type": "display_data",
          "data": {
            "image/png": "[encoded data removed]",
            "text/plain": [
              "<Figure size 576x396 with 1 Axes>"
            ]
          },
          "metadata": {
            "tags": []
          }
        }
      ]
    },
    {
      "metadata": {
        "id": "anLWbg3ZDvmQ",
        "colab_type": "text"
      },
      "cell_type": "markdown",
      "source": [
        "Aunque sigue siendo desequilibrado, este sería el punto más equilibrado para dividir el dataset en dos calidades, buscando la manera de tener los dos grupos balanceados."
      ]
    },
    {
      "metadata": {
        "id": "_IJYWr-PO3EZ",
        "colab_type": "text"
      },
      "cell_type": "markdown",
      "source": [
        "## Regresión Lineal"
      ]
    },
    {
      "metadata": {
        "id": "jHDaUQTZO7mT",
        "colab_type": "code",
        "outputId": "6ed2d4e3-0f4a-447e-cc23-bb5e3963056d",
        "colab": {
          "base_uri": "https://localhost:8080/",
          "height": 34
        }
      },
      "cell_type": "code",
      "source": [
        "# partición de los datos para entrenamiento y test\n",
        "X_train, X_test, y_train, y_test = train_test_split(X, y, test_size=0.25)\n",
        "\n",
        "clf = linear_model.LinearRegression()\n",
        "clf.fit(X_train, y_train)\n",
        "clf.score(X_test, y_test)*100"
      ],
      "execution_count": 0,
      "outputs": [
        {
          "output_type": "execute_result",
          "data": {
            "text/plain": [
              "27.60370103132437"
            ]
          },
          "metadata": {
            "tags": []
          },
          "execution_count": 6
        }
      ]
    },
    {
      "metadata": {
        "id": "O12A1KmIT0Gp",
        "colab_type": "code",
        "outputId": "1ff0e5ca-6717-47c5-870d-d96bb689bd6d",
        "colab": {
          "base_uri": "https://localhost:8080/",
          "height": 34
        }
      },
      "cell_type": "code",
      "source": [
        "clf.fit(X_train[:,[10,1,7,5]], y_train)\n",
        "clf.score(X_test[:,[10,1,7,5]], y_test)*100"
      ],
      "execution_count": 0,
      "outputs": [
        {
          "output_type": "execute_result",
          "data": {
            "text/plain": [
              "26.74480291155553"
            ]
          },
          "metadata": {
            "tags": []
          },
          "execution_count": 7
        }
      ]
    },
    {
      "metadata": {
        "id": "fhYKkk3dTC0L",
        "colab_type": "text"
      },
      "cell_type": "markdown",
      "source": [
        "#  Partición de los datos"
      ]
    },
    {
      "metadata": {
        "id": "kNMScViky4sR",
        "colab_type": "code",
        "colab": {}
      },
      "cell_type": "code",
      "source": [
        "X_train, X_test, y_train, y_test = train_test_split(X, y_bin, test_size=0.25)"
      ],
      "execution_count": 0,
      "outputs": []
    },
    {
      "metadata": {
        "id": "PYgYgnRNws5u",
        "colab_type": "text"
      },
      "cell_type": "markdown",
      "source": [
        "## Regresión logística:\n",
        "\n",
        "En este modelo se tomaron todas la variables del problema."
      ]
    },
    {
      "metadata": {
        "id": "uAsah28P0O3f",
        "colab_type": "code",
        "outputId": "03476a62-8997-4812-acd7-d8ac4a2627f7",
        "colab": {
          "base_uri": "https://localhost:8080/"
        }
      },
      "cell_type": "code",
      "source": [
        "clf = linear_model.LogisticRegression(solver=\"lbfgs\")\n",
        "clf.fit(X_train, y_train)\n",
        "clf.score(X_test, y_test)*100"
      ],
      "execution_count": 0,
      "outputs": [
        {
          "output_type": "stream",
          "text": [
            "/usr/local/lib/python3.6/dist-packages/sklearn/linear_model/logistic.py:758: ConvergenceWarning: lbfgs failed to converge. Increase the number of iterations.\n",
            "  \"of iterations.\", ConvergenceWarning)\n"
          ],
          "name": "stderr"
        },
        {
          "output_type": "execute_result",
          "data": {
            "text/plain": [
              "73.90476190476191"
            ]
          },
          "metadata": {
            "tags": []
          },
          "execution_count": 12
        }
      ]
    },
    {
      "metadata": {
        "id": "I0055F1zx09a",
        "colab_type": "text"
      },
      "cell_type": "markdown",
      "source": [
        "En este modelo se tomaron las 5 variables con más importancia (según lo mostrado en el punto de entendimiento del problema):\n",
        "  \n",
        "  * Alcohol\n",
        "  * Volatile acidity\n",
        "  * Density\n",
        "  * Free sulfur dioxide\n",
        "  * citric acid"
      ]
    },
    {
      "metadata": {
        "id": "3tgCbVk0Zj6Y",
        "colab_type": "code",
        "outputId": "cdceca03-796b-437f-cee2-5ca5fe9fd810",
        "colab": {
          "base_uri": "https://localhost:8080/"
        }
      },
      "cell_type": "code",
      "source": [
        "clf = linear_model.LogisticRegression(solver=\"lbfgs\")\n",
        "clf.fit(X_train[:,[10,1,7,5,2]], y_train)\n",
        "clf.score(X_test[:,[10,1,7,5,2]], y_test)*100"
      ],
      "execution_count": 0,
      "outputs": [
        {
          "output_type": "execute_result",
          "data": {
            "text/plain": [
              "71.42857142857143"
            ]
          },
          "metadata": {
            "tags": []
          },
          "execution_count": 13
        }
      ]
    },
    {
      "metadata": {
        "id": "STiNWr0ztHoi",
        "colab_type": "text"
      },
      "cell_type": "markdown",
      "source": [
        "## Árboles de decisión:"
      ]
    },
    {
      "metadata": {
        "id": "FlTJ2c6ole0c",
        "colab_type": "text"
      },
      "cell_type": "markdown",
      "source": [
        "<p> En este modelo se tomaron todas la variables del problema."
      ]
    },
    {
      "metadata": {
        "id": "nb56P5rezDgL",
        "colab_type": "code",
        "outputId": "3feff7ee-669d-4a77-dad9-9509155ae3d4",
        "colab": {
          "base_uri": "https://localhost:8080/",
          "height": 34
        }
      },
      "cell_type": "code",
      "source": [
        "clf = tree.DecisionTreeClassifier(max_depth=7)\n",
        "clf = clf.fit(X_train, y_train)\n",
        "clf.score(X_test, y_test)*100"
      ],
      "execution_count": 0,
      "outputs": [
        {
          "output_type": "execute_result",
          "data": {
            "text/plain": [
              "78.38095238095238"
            ]
          },
          "metadata": {
            "tags": []
          },
          "execution_count": 14
        }
      ]
    },
    {
      "metadata": {
        "id": "2Uk-ehTbtTS5",
        "colab_type": "text"
      },
      "cell_type": "markdown",
      "source": [
        "<p>En este modelo se modificó el parámetro de profundidad."
      ]
    },
    {
      "metadata": {
        "id": "oSgkUXnatSmJ",
        "colab_type": "code",
        "outputId": "9f291041-b655-4d10-fb27-3687e38c48f8",
        "colab": {
          "base_uri": "https://localhost:8080/",
          "height": 34
        }
      },
      "cell_type": "code",
      "source": [
        "clf = tree.DecisionTreeClassifier(max_depth=15)\n",
        "clf = clf.fit(X_train, y_train)\n",
        "clf.score(X_test, y_test)*100"
      ],
      "execution_count": 0,
      "outputs": [
        {
          "output_type": "execute_result",
          "data": {
            "text/plain": [
              "80.47619047619048"
            ]
          },
          "metadata": {
            "tags": []
          },
          "execution_count": 15
        }
      ]
    },
    {
      "metadata": {
        "id": "a9Ng_9GmnR5K",
        "colab_type": "text"
      },
      "cell_type": "markdown",
      "source": [
        "En este modelo se tomaron las 5 variables con más importancia (según lo mostrado en el punto de entendimiento del problema):\n",
        "  \n",
        "  * Alcohol\n",
        "  * Volatile acidity\n",
        "  * Density\n",
        "  * Free sulfur dioxide\n",
        "  * Citric acid"
      ]
    },
    {
      "metadata": {
        "id": "McP_p3STR5gk",
        "colab_type": "code",
        "outputId": "8e3565c0-34c4-4a23-90d2-7dc44d6857f6",
        "colab": {
          "base_uri": "https://localhost:8080/",
          "height": 34
        }
      },
      "cell_type": "code",
      "source": [
        "clf = tree.DecisionTreeClassifier(max_depth=7)\n",
        "clf = clf.fit(X_train[:,[10,1,7,5,2]], y_train)\n",
        "clf.score(X_test[:,[10,1,7,5,2]], y_test)*100"
      ],
      "execution_count": 0,
      "outputs": [
        {
          "output_type": "execute_result",
          "data": {
            "text/plain": [
              "76.09523809523809"
            ]
          },
          "metadata": {
            "tags": []
          },
          "execution_count": 16
        }
      ]
    },
    {
      "metadata": {
        "id": "7P3wg5W9wPhS",
        "colab_type": "text"
      },
      "cell_type": "markdown",
      "source": [
        "### Modelo seleccionado\n",
        "<p>En este modelo se modificó el parámetro de profundidad y se tomaron las 5 variables con más importancia\n",
        "  \n",
        "  \n",
        "  * Alcohol\n",
        "  * Volatile acidity\n",
        "  * Density\n",
        "  * Free sulfur dioxide\n",
        "  * Citric acid"
      ]
    },
    {
      "metadata": {
        "id": "bNhAduX5wbSq",
        "colab_type": "code",
        "outputId": "2298617a-796e-4de3-bbd4-df6920aa7285",
        "colab": {
          "base_uri": "https://localhost:8080/",
          "height": 34
        }
      },
      "cell_type": "code",
      "source": [
        "clf = tree.DecisionTreeClassifier(max_depth=20)\n",
        "clf = clf.fit(X_train[:,[10,1,7,5,2]], y_train)\n",
        "y_pred = clf.predict(X_test[:,[10,1,7,5,2]])\n",
        "clf.score(X_test[:,[10,1,7,5,2]], y_test)*100"
      ],
      "execution_count": 36,
      "outputs": [
        {
          "output_type": "execute_result",
          "data": {
            "text/plain": [
              "76.09523809523809"
            ]
          },
          "metadata": {
            "tags": []
          },
          "execution_count": 36
        }
      ]
    },
    {
      "metadata": {
        "id": "SbNta7m_WSS_",
        "colab_type": "text"
      },
      "cell_type": "markdown",
      "source": [
        "#### Matriz de confusión"
      ]
    },
    {
      "metadata": {
        "id": "8oXGhBbGSbsq",
        "colab_type": "code",
        "colab": {
          "base_uri": "https://localhost:8080/",
          "height": 889
        },
        "outputId": "fba1b44b-b247-4987-fa27-e66202daa92c"
      },
      "cell_type": "code",
      "source": [
        "import matplotlib.pyplot as plt\n",
        "from sklearn.metrics import confusion_matrix\n",
        "from sklearn.utils.multiclass import unique_labels\n",
        "\n",
        "\n",
        "\n",
        "def plot_confusion_matrix(y_true, y_pred, classes,\n",
        "                          normalize=False,\n",
        "                          title=None,\n",
        "                          cmap=plt.cm.Blues):\n",
        "    \"\"\"\n",
        "    This function prints and plots the confusion matrix.\n",
        "    Normalization can be applied by setting `normalize=True`.\n",
        "    \"\"\"\n",
        "    if not title:\n",
        "        if normalize:\n",
        "            title = 'Normalized confusion matrix'\n",
        "        else:\n",
        "            title = 'Confusion matrix, without normalization'\n",
        "\n",
        "    # Compute confusion matrix\n",
        "    cm = confusion_matrix(y_true, y_pred)\n",
        "    # Only use the labels that appear in the data\n",
        "    classes = classes[unique_labels(y_true, y_pred)]\n",
        "    if normalize:\n",
        "        cm = cm.astype('float') / cm.sum(axis=1)[:, np.newaxis]\n",
        "        print(\"Normalized confusion matrix\")\n",
        "    else:\n",
        "        print('Confusion matrix, without normalization')\n",
        "\n",
        "    print(cm)\n",
        "\n",
        "    fig, ax = plt.subplots()\n",
        "    im = ax.imshow(cm, interpolation='nearest', cmap=cmap)\n",
        "    ax.figure.colorbar(im, ax=ax)\n",
        "    # We want to show all ticks...\n",
        "    ax.set(xticks=np.arange(cm.shape[1]),\n",
        "           yticks=np.arange(cm.shape[0]),\n",
        "           # ... and label them with the respective list entries\n",
        "           xticklabels=classes, yticklabels=classes,\n",
        "           title=title,\n",
        "           ylabel='True label',\n",
        "           xlabel='Predicted label')\n",
        "\n",
        "    # Rotate the tick labels and set their alignment.\n",
        "    plt.setp(ax.get_xticklabels(), rotation=45, ha=\"right\",\n",
        "             rotation_mode=\"anchor\")\n",
        "\n",
        "    # Loop over data dimensions and create text annotations.\n",
        "    fmt = '.2f' if normalize else 'd'\n",
        "    thresh = cm.max() / 2.\n",
        "    for i in range(cm.shape[0]):\n",
        "        for j in range(cm.shape[1]):\n",
        "            ax.text(j, i, format(cm[i, j], fmt),\n",
        "                    ha=\"center\", va=\"center\",\n",
        "                    color=\"white\" if cm[i, j] > thresh else \"black\")\n",
        "    fig.tight_layout()\n",
        "    return ax\n",
        "\n",
        "\n",
        "np.set_printoptions(precision=2)\n",
        "\n",
        "class_names = np.array(['MALO','BUENO'])\n",
        "# Plot non-normalized confusion matrix\n",
        "plot_confusion_matrix(y_test, y_pred, classes=class_names,\n",
        "                      title='Confusion matrix, without normalization')\n",
        "\n",
        "# Plot normalized confusion matrix\n",
        "plot_confusion_matrix(y_test, y_pred, classes=class_names, normalize=True,\n",
        "                      title='Normalized confusion matrix')\n",
        "\n",
        "plt.show()"
      ],
      "execution_count": 40,
      "outputs": [
        {
          "output_type": "stream",
          "text": [
            "Confusion matrix, without normalization\n",
            "[[225 130]\n",
            " [121 574]]\n",
            "Normalized confusion matrix\n",
            "[[0.63 0.37]\n",
            " [0.17 0.83]]\n"
          ],
          "name": "stdout"
        },
        {
          "output_type": "display_data",
          "data": {
            "image/png": "[encoded data removed]",
            "text/plain": [
              "<Figure size 576x396 with 2 Axes>"
            ]
          },
          "metadata": {
            "tags": []
          }
        },
        {
          "output_type": "display_data",
          "data": {
            "image/png": "[encoded data removed]",
            "text/plain": [
              "<Figure size 576x396 with 2 Axes>"
            ]
          },
          "metadata": {
            "tags": []
          }
        }
      ]
    }
  ]
}